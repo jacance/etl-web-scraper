{
 "cells": [
  {
   "cell_type": "markdown",
   "metadata": {},
   "source": [
    "# ETL Listing Scraper"
   ]
  },
  {
   "cell_type": "code",
   "execution_count": null,
   "metadata": {},
   "outputs": [],
   "source": [
    "# Dependencies\n",
    "from bs4 import BeautifulSoup\n",
    "import requests\n",
    "import pandas as pd\n",
    "import matplotlib as plt\n",
    "import re"
   ]
  },
  {
   "cell_type": "markdown",
   "metadata": {},
   "source": [
    "### Craigslist"
   ]
  },
  {
   "cell_type": "code",
   "execution_count": null,
   "metadata": {},
   "outputs": [],
   "source": [
    "# URL of page to be scraped\n",
    "craigslist_url = 'https://sfbay.craigslist.org/search/vga?query=playstation+5'"
   ]
  },
  {
   "cell_type": "code",
   "execution_count": null,
   "metadata": {},
   "outputs": [],
   "source": [
    "response = requests.get(craigslist_url)\n",
    "response"
   ]
  },
  {
   "cell_type": "code",
   "execution_count": null,
   "metadata": {},
   "outputs": [],
   "source": [
    "response = requests.get(craigslist_url)\n",
    "soup = BeautifulSoup(response.text, \"html.parser\")"
   ]
  },
  {
   "cell_type": "code",
   "execution_count": null,
   "metadata": {},
   "outputs": [],
   "source": [
    "print(soup.prettify())"
   ]
  },
  {
   "cell_type": "code",
   "execution_count": null,
   "metadata": {},
   "outputs": [],
   "source": [
    "results = soup.find_all(\"li\", class_=\"result-row\")\n",
    "len(results)"
   ]
  },
  {
   "cell_type": "code",
   "execution_count": null,
   "metadata": {},
   "outputs": [],
   "source": [
    "craigslist_df = pd.DataFrame(columns= ['title', 'price', 'city', 'link',])\n",
    "craigslist_df"
   ]
  },
  {
   "cell_type": "code",
   "execution_count": null,
   "metadata": {},
   "outputs": [],
   "source": [
    "#Parse URL and then append city in loop: LA, NY\n",
    "cl_cities = ['sfbay', 'losangeles', 'newyork', 'houston', 'atlanta', 'chicago']"
   ]
  },
  {
   "cell_type": "code",
   "execution_count": null,
   "metadata": {},
   "outputs": [],
   "source": [
    "cl_all = []\n",
    "\n",
    "for city in cl_cities:\n",
    "    craigslist_url = f'https://{city}.craigslist.org/search/vga?query=playstation+5'\n",
    "    response = requests.get(craigslist_url)\n",
    "    soup = BeautifulSoup(response.text, \"html.parser\")\n",
    "    results = soup.find_all(\"li\", class_=\"result-row\")\n",
    "    print(city)\n",
    "    \n",
    "\n",
    "    for result in results:\n",
    "        title = result.find('a', class_=\"result-title\").text\n",
    "        price = float(result.find('span', class_=\"result-price\").text.replace(\"$\",\"\").replace(\",\",\"\"))\n",
    "        link = result.a['href']\n",
    "\n",
    "        if (title and price and link):\n",
    "\n",
    "            cl_listing = {\n",
    "                'title': title,\n",
    "                'price': price,\n",
    "                'city' : city,\n",
    "                'link': link\n",
    "            }\n",
    "            cl_all.append(cl_listing)\n",
    "    print(\"-------------------------------------\")"
   ]
  },
  {
   "cell_type": "code",
   "execution_count": null,
   "metadata": {},
   "outputs": [],
   "source": [
    "craigslist_df = pd.DataFrame(cl_all)\n",
    "\n",
    "# Exclude listings below MSRP\n",
    "craigslist_df = craigslist_df[craigslist_df['price'] > 400]\n",
    "\n",
    "# Drop duplicates\n",
    "craigslist_df.drop_duplicates(subset=['link'])\n",
    "\n",
    "craigslist_df.head()"
   ]
  },
  {
   "cell_type": "code",
   "execution_count": null,
   "metadata": {},
   "outputs": [],
   "source": [
    "craigslist_df.hist()"
   ]
  },
  {
   "cell_type": "markdown",
   "metadata": {},
   "source": [
    "### eBay"
   ]
  },
  {
   "cell_type": "code",
   "execution_count": null,
   "metadata": {},
   "outputs": [],
   "source": [
    "# eBay Search\n",
    "ebay_url = 'https://www.ebay.com/sch/i.html?_from=R40&_nkw=playstation+5&_sacat=139971&_ipg=200&rt=nc&_pgn=1'"
   ]
  },
  {
   "cell_type": "code",
   "execution_count": null,
   "metadata": {},
   "outputs": [],
   "source": [
    "response = requests.get(ebay_url)\n",
    "response"
   ]
  },
  {
   "cell_type": "code",
   "execution_count": null,
   "metadata": {},
   "outputs": [],
   "source": [
    "soup = BeautifulSoup(response.text, \"html.parser\")"
   ]
  },
  {
   "cell_type": "code",
   "execution_count": null,
   "metadata": {},
   "outputs": [],
   "source": [
    "print(soup.prettify())"
   ]
  },
  {
   "cell_type": "code",
   "execution_count": null,
   "metadata": {},
   "outputs": [],
   "source": [
    "results = soup.find_all('li', class_=\"s-item\")\n",
    "len(results)"
   ]
  },
  {
   "cell_type": "code",
   "execution_count": null,
   "metadata": {
    "scrolled": true
   },
   "outputs": [],
   "source": [
    "ebay_df = pd.DataFrame(columns=[\"title\",\"price\",\"shipping\",\"link\"])\n"
   ]
  },
  {
   "cell_type": "code",
   "execution_count": null,
   "metadata": {},
   "outputs": [],
   "source": [
    "ebay_all = []\n",
    "\n",
    "for page in range(1, 5):\n",
    "    ebay_url = f'https://www.ebay.com/sch/i.html?_from=R40&_nkw=playstation+5&_sacat=139971&_ipg=200&rt=nc&_pgn={page}'\n",
    "    response = requests.get(ebay_url)\n",
    "    soup = BeautifulSoup(response.text, \"html.parser\")\n",
    "    results = soup.find_all('li', class_=\"s-item\")\n",
    "    print(f'--- Page {page} ---')\n",
    "\n",
    "    for result in results:\n",
    "        try:\n",
    "            title = result.find('h3', class_=\"s-item__title\")\n",
    "            if title is None:\n",
    "                title = result.find('h3', class_=\"s-item__title--has-tags\")\n",
    "                title = title.get\n",
    "            else:\n",
    "                title = title.text\n",
    "            price = result.find('span', class_='s-item__price').text.replace(\"$\",\"\").replace(\",\",\"\")\n",
    "            shipping = result.find('span', class_=\"s-item__logisticsCost\").text.replace(\"$\",\"\").replace(\",\",\"\").replace(\"+\",\"\").replace(\"shipping\",\"\").replace(\"Free \",\"0\")\n",
    "            link = result.a['href']\n",
    "            \n",
    "            if (title and price and shipping and link):\n",
    "                ebay_listing = {\"title\": title,\n",
    "                     \"price\": price,\n",
    "                     \"shipping\": shipping,\n",
    "                     \"link\": link}\n",
    "                ebay_all.append(ebay_listing)\n",
    "\n",
    "        except AttributeError as a:\n",
    "            print(a)\n",
    "            print(result)\n",
    "            print(title)\n",
    "            print(\"-------------------------------\")\n",
    "\n",
    "        except ValueError as v:\n",
    "            print(v)\n",
    "            print(result)\n",
    "            print(\"-------------------------------\")\n"
   ]
  },
  {
   "cell_type": "code",
   "execution_count": 34,
   "metadata": {},
   "outputs": [
    {
     "data": {
      "text/html": [
       "<div>\n",
       "<style scoped>\n",
       "    .dataframe tbody tr th:only-of-type {\n",
       "        vertical-align: middle;\n",
       "    }\n",
       "\n",
       "    .dataframe tbody tr th {\n",
       "        vertical-align: top;\n",
       "    }\n",
       "\n",
       "    .dataframe thead th {\n",
       "        text-align: right;\n",
       "    }\n",
       "</style>\n",
       "<table border=\"1\" class=\"dataframe\">\n",
       "  <thead>\n",
       "    <tr style=\"text-align: right;\">\n",
       "      <th></th>\n",
       "      <th>title</th>\n",
       "      <th>price</th>\n",
       "      <th>shipping</th>\n",
       "      <th>link</th>\n",
       "    </tr>\n",
       "  </thead>\n",
       "  <tbody>\n",
       "    <tr>\n",
       "      <th>0</th>\n",
       "      <td>🔥PS5 Sony PlayStation 5 Console Disc Version🔥B...</td>\n",
       "      <td>1499.95</td>\n",
       "      <td>0</td>\n",
       "      <td>https://www.ebay.com/itm/PS5-Sony-PlayStation-...</td>\n",
       "    </tr>\n",
       "    <tr>\n",
       "      <th>1</th>\n",
       "      <td>PS5 Sony PlayStation 5 DIGITAL Version BRAND N...</td>\n",
       "      <td>999.99</td>\n",
       "      <td>0</td>\n",
       "      <td>https://www.ebay.com/itm/PS5-Sony-PlayStation-...</td>\n",
       "    </tr>\n",
       "    <tr>\n",
       "      <th>2</th>\n",
       "      <td>PS5 - Sony PlayStation 5 Standard Disc Version...</td>\n",
       "      <td>999.99</td>\n",
       "      <td>0</td>\n",
       "      <td>https://www.ebay.com/itm/PS5-Sony-PlayStation-...</td>\n",
       "    </tr>\n",
       "    <tr>\n",
       "      <th>3</th>\n",
       "      <td>New ListingSONY PLAYSTATION 5 CONSOLE DISC VER...</td>\n",
       "      <td>895.00</td>\n",
       "      <td>20.00</td>\n",
       "      <td>https://www.ebay.com/itm/SONY-PLAYSTATION-5-CO...</td>\n",
       "    </tr>\n",
       "    <tr>\n",
       "      <th>4</th>\n",
       "      <td>New ListingSony PlayStation 5 Console PS5 Stan...</td>\n",
       "      <td>899.00</td>\n",
       "      <td>0</td>\n",
       "      <td>https://www.ebay.com/itm/Sony-PlayStation-5-Co...</td>\n",
       "    </tr>\n",
       "    <tr>\n",
       "      <th>...</th>\n",
       "      <td>...</td>\n",
       "      <td>...</td>\n",
       "      <td>...</td>\n",
       "      <td>...</td>\n",
       "    </tr>\n",
       "    <tr>\n",
       "      <th>847</th>\n",
       "      <td>New ListingSony Playstation 5 Console Blu-ray ...</td>\n",
       "      <td>849.99</td>\n",
       "      <td>31.01</td>\n",
       "      <td>https://www.ebay.com/itm/Sony-Playstation-5-Co...</td>\n",
       "    </tr>\n",
       "    <tr>\n",
       "      <th>848</th>\n",
       "      <td>Sony Playstation 5 PS5 DIGITAL Edition Sealed ...</td>\n",
       "      <td>710.00</td>\n",
       "      <td>5.00</td>\n",
       "      <td>https://www.ebay.com/itm/Sony-Playstation-5-PS...</td>\n",
       "    </tr>\n",
       "    <tr>\n",
       "      <th>849</th>\n",
       "      <td>Sony Playstation 5 (PS5) Disc Version Ultimate...</td>\n",
       "      <td>810.00</td>\n",
       "      <td>83.80</td>\n",
       "      <td>https://www.ebay.com/itm/Sony-Playstation-5-PS...</td>\n",
       "    </tr>\n",
       "    <tr>\n",
       "      <th>850</th>\n",
       "      <td>Sony PlayStation 5 Console Disc Version PS5 IN...</td>\n",
       "      <td>1199.98</td>\n",
       "      <td>0</td>\n",
       "      <td>https://www.ebay.com/itm/Sony-PlayStation-5-Co...</td>\n",
       "    </tr>\n",
       "    <tr>\n",
       "      <th>851</th>\n",
       "      <td>✅ Sony PlayStation 5 Console Disc Version PS5 ...</td>\n",
       "      <td>999.98</td>\n",
       "      <td>0</td>\n",
       "      <td>https://www.ebay.com/itm/Sony-PlayStation-5-Co...</td>\n",
       "    </tr>\n",
       "  </tbody>\n",
       "</table>\n",
       "<p>850 rows × 4 columns</p>\n",
       "</div>"
      ],
      "text/plain": [
       "                                                 title    price shipping  \\\n",
       "0    🔥PS5 Sony PlayStation 5 Console Disc Version🔥B...  1499.95        0   \n",
       "1    PS5 Sony PlayStation 5 DIGITAL Version BRAND N...   999.99        0   \n",
       "2    PS5 - Sony PlayStation 5 Standard Disc Version...   999.99        0   \n",
       "3    New ListingSONY PLAYSTATION 5 CONSOLE DISC VER...   895.00   20.00    \n",
       "4    New ListingSony PlayStation 5 Console PS5 Stan...   899.00        0   \n",
       "..                                                 ...      ...      ...   \n",
       "847  New ListingSony Playstation 5 Console Blu-ray ...   849.99   31.01    \n",
       "848  Sony Playstation 5 PS5 DIGITAL Edition Sealed ...   710.00    5.00    \n",
       "849  Sony Playstation 5 (PS5) Disc Version Ultimate...   810.00   83.80    \n",
       "850  Sony PlayStation 5 Console Disc Version PS5 IN...  1199.98        0   \n",
       "851  ✅ Sony PlayStation 5 Console Disc Version PS5 ...   999.98        0   \n",
       "\n",
       "                                                  link  \n",
       "0    https://www.ebay.com/itm/PS5-Sony-PlayStation-...  \n",
       "1    https://www.ebay.com/itm/PS5-Sony-PlayStation-...  \n",
       "2    https://www.ebay.com/itm/PS5-Sony-PlayStation-...  \n",
       "3    https://www.ebay.com/itm/SONY-PLAYSTATION-5-CO...  \n",
       "4    https://www.ebay.com/itm/Sony-PlayStation-5-Co...  \n",
       "..                                                 ...  \n",
       "847  https://www.ebay.com/itm/Sony-Playstation-5-Co...  \n",
       "848  https://www.ebay.com/itm/Sony-Playstation-5-PS...  \n",
       "849  https://www.ebay.com/itm/Sony-Playstation-5-PS...  \n",
       "850  https://www.ebay.com/itm/Sony-PlayStation-5-Co...  \n",
       "851  https://www.ebay.com/itm/Sony-PlayStation-5-Co...  \n",
       "\n",
       "[850 rows x 4 columns]"
      ]
     },
     "execution_count": 34,
     "metadata": {},
     "output_type": "execute_result"
    }
   ],
   "source": [
    "# Create dataframe\n",
    "ebay_df = pd.DataFrame(ebay_all)\n",
    "\n",
    "# Drop duplicates\n",
    "ebay_df = ebay_df.drop_duplicates(subset=[\"link\"])\n",
    "ebay_df\n"
   ]
  },
  {
   "cell_type": "code",
   "execution_count": 35,
   "metadata": {},
   "outputs": [
    {
     "data": {
      "text/plain": [
       "title        object\n",
       "price       float64\n",
       "shipping    float64\n",
       "link         object\n",
       "dtype: object"
      ]
     },
     "execution_count": 35,
     "metadata": {},
     "output_type": "execute_result"
    }
   ],
   "source": [
    "# Remove \"New Listing\" from title\n",
    "ebay_df['title'] = ebay_df['title'].str.replace(\"New Listing\", \"\")\n",
    "\n",
    "# Convert price and shipping datatypes to float\n",
    "ebay_df['price'] = ebay_df['price'].str.split(' ').str[0]\n",
    "ebay_df['price'] = ebay_df['price'].astype(float)\n",
    "\n",
    "ebay_df['shipping'] = ebay_df['shipping'].astype(float)\n",
    "\n",
    "\n",
    "ebay_df.dtypes"
   ]
  },
  {
   "cell_type": "code",
   "execution_count": 36,
   "metadata": {},
   "outputs": [
    {
     "name": "stderr",
     "output_type": "stream",
     "text": [
      "/opt/anaconda3/envs/pythondata/lib/python3.6/site-packages/ipykernel_launcher.py:3: SettingWithCopyWarning: \n",
      "A value is trying to be set on a copy of a slice from a DataFrame.\n",
      "Try using .loc[row_indexer,col_indexer] = value instead\n",
      "\n",
      "See the caveats in the documentation: https://pandas.pydata.org/pandas-docs/stable/user_guide/indexing.html#returning-a-view-versus-a-copy\n",
      "  This is separate from the ipykernel package so we can avoid doing imports until\n"
     ]
    },
    {
     "data": {
      "text/html": [
       "<div>\n",
       "<style scoped>\n",
       "    .dataframe tbody tr th:only-of-type {\n",
       "        vertical-align: middle;\n",
       "    }\n",
       "\n",
       "    .dataframe tbody tr th {\n",
       "        vertical-align: top;\n",
       "    }\n",
       "\n",
       "    .dataframe thead th {\n",
       "        text-align: right;\n",
       "    }\n",
       "</style>\n",
       "<table border=\"1\" class=\"dataframe\">\n",
       "  <thead>\n",
       "    <tr style=\"text-align: right;\">\n",
       "      <th></th>\n",
       "      <th>title</th>\n",
       "      <th>price</th>\n",
       "      <th>shipping</th>\n",
       "      <th>total</th>\n",
       "      <th>link</th>\n",
       "    </tr>\n",
       "  </thead>\n",
       "  <tbody>\n",
       "    <tr>\n",
       "      <th>0</th>\n",
       "      <td>🔥PS5 Sony PlayStation 5 Console Disc Version🔥B...</td>\n",
       "      <td>1499.95</td>\n",
       "      <td>0.0</td>\n",
       "      <td>1499.95</td>\n",
       "      <td>https://www.ebay.com/itm/PS5-Sony-PlayStation-...</td>\n",
       "    </tr>\n",
       "    <tr>\n",
       "      <th>1</th>\n",
       "      <td>PS5 Sony PlayStation 5 DIGITAL Version BRAND N...</td>\n",
       "      <td>999.99</td>\n",
       "      <td>0.0</td>\n",
       "      <td>999.99</td>\n",
       "      <td>https://www.ebay.com/itm/PS5-Sony-PlayStation-...</td>\n",
       "    </tr>\n",
       "    <tr>\n",
       "      <th>2</th>\n",
       "      <td>PS5 - Sony PlayStation 5 Standard Disc Version...</td>\n",
       "      <td>999.99</td>\n",
       "      <td>0.0</td>\n",
       "      <td>999.99</td>\n",
       "      <td>https://www.ebay.com/itm/PS5-Sony-PlayStation-...</td>\n",
       "    </tr>\n",
       "    <tr>\n",
       "      <th>3</th>\n",
       "      <td>SONY PLAYSTATION 5 CONSOLE DISC VERSION - PS5 ...</td>\n",
       "      <td>895.00</td>\n",
       "      <td>20.0</td>\n",
       "      <td>915.00</td>\n",
       "      <td>https://www.ebay.com/itm/SONY-PLAYSTATION-5-CO...</td>\n",
       "    </tr>\n",
       "    <tr>\n",
       "      <th>4</th>\n",
       "      <td>Sony PlayStation 5 Console PS5 Standard Disc V...</td>\n",
       "      <td>899.00</td>\n",
       "      <td>0.0</td>\n",
       "      <td>899.00</td>\n",
       "      <td>https://www.ebay.com/itm/Sony-PlayStation-5-Co...</td>\n",
       "    </tr>\n",
       "  </tbody>\n",
       "</table>\n",
       "</div>"
      ],
      "text/plain": [
       "                                               title    price  shipping  \\\n",
       "0  🔥PS5 Sony PlayStation 5 Console Disc Version🔥B...  1499.95       0.0   \n",
       "1  PS5 Sony PlayStation 5 DIGITAL Version BRAND N...   999.99       0.0   \n",
       "2  PS5 - Sony PlayStation 5 Standard Disc Version...   999.99       0.0   \n",
       "3  SONY PLAYSTATION 5 CONSOLE DISC VERSION - PS5 ...   895.00      20.0   \n",
       "4  Sony PlayStation 5 Console PS5 Standard Disc V...   899.00       0.0   \n",
       "\n",
       "     total                                               link  \n",
       "0  1499.95  https://www.ebay.com/itm/PS5-Sony-PlayStation-...  \n",
       "1   999.99  https://www.ebay.com/itm/PS5-Sony-PlayStation-...  \n",
       "2   999.99  https://www.ebay.com/itm/PS5-Sony-PlayStation-...  \n",
       "3   915.00  https://www.ebay.com/itm/SONY-PLAYSTATION-5-CO...  \n",
       "4   899.00  https://www.ebay.com/itm/Sony-PlayStation-5-Co...  "
      ]
     },
     "execution_count": 36,
     "metadata": {},
     "output_type": "execute_result"
    }
   ],
   "source": [
    "# Exclude listings below MSRP\n",
    "ebay_df = ebay_df[ebay_df[\"price\"] > 400]\n",
    "ebay_df[\"total\"] = ebay_df[\"price\"] + ebay_df[\"shipping\"]\n",
    "\n",
    "# Rearrange columns\n",
    "ebay_df = ebay_df[[\"title\",\"price\",\"shipping\",\"total\",\"link\"]]\n",
    "\n",
    "ebay_df.head()"
   ]
  },
  {
   "cell_type": "code",
   "execution_count": 37,
   "metadata": {},
   "outputs": [
    {
     "data": {
      "text/plain": [
       "array([[<matplotlib.axes._subplots.AxesSubplot object at 0x7fa2e14ff5c0>,\n",
       "        <matplotlib.axes._subplots.AxesSubplot object at 0x7fa2e2630438>],\n",
       "       [<matplotlib.axes._subplots.AxesSubplot object at 0x7fa2e02a2588>,\n",
       "        <matplotlib.axes._subplots.AxesSubplot object at 0x7fa2e199a7f0>]],\n",
       "      dtype=object)"
      ]
     },
     "execution_count": 37,
     "metadata": {},
     "output_type": "execute_result"
    },
    {
     "data": {
      "image/png": "[encoded data removed]",
      "text/plain": [
       "<Figure size 432x288 with 4 Axes>"
      ]
     },
     "metadata": {
      "needs_background": "light"
     },
     "output_type": "display_data"
    }
   ],
   "source": [
    "ebay_df.hist()"
   ]
  },
  {
   "cell_type": "code",
   "execution_count": null,
   "metadata": {},
   "outputs": [],
   "source": []
  }
 ],
 "metadata": {
  "kernelspec": {
   "display_name": "Python [conda env:PythonData]",
   "language": "python",
   "name": "conda-env-PythonData-py"
  },
  "language_info": {
   "codemirror_mode": {
    "name": "ipython",
    "version": 3
   },
   "file_extension": ".py",
   "mimetype": "text/x-python",
   "name": "python",
   "nbconvert_exporter": "python",
   "pygments_lexer": "ipython3",
   "version": "3.6.10"
  }
 },
 "nbformat": 4,
 "nbformat_minor": 4
}
